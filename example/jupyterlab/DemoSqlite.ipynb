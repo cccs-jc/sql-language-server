{
 "cells": [
  {
   "cell_type": "markdown",
   "id": "399fa0c0-d191-45a3-8689-3cccc583b5d5",
   "metadata": {},
   "source": [
    "### Load `%%sql` to execute queries using sqlAlchemy"
   ]
  },
  {
   "cell_type": "code",
   "execution_count": 1,
   "id": "e768621c-31e9-4ed3-8aab-434ad6d2cc9c",
   "metadata": {},
   "outputs": [],
   "source": [
    "%load_ext sql"
   ]
  },
  {
   "cell_type": "code",
   "execution_count": null,
   "id": "5e0bf1cc-f781-4e9f-bba2-181a35c30262",
   "metadata": {},
   "outputs": [],
   "source": [
    "%%sql sqlite:///demodb.sqlite\n",
    "/*\n",
    " Use ipython-sql magic to execute query against sqlite database\n",
    "*/\n",
    "SELECT\n",
    "    c.contact_id\n",
    "FROM\n",
    "contacts c"
   ]
  }
 ],
 "metadata": {
  "kernelspec": {
   "display_name": "Python 3 (ipykernel)",
   "language": "python",
   "name": "python3"
  },
  "language_info": {
   "codemirror_mode": {
    "name": "ipython",
    "version": 3
   },
   "file_extension": ".py",
   "mimetype": "text/x-python",
   "name": "python",
   "nbconvert_exporter": "python",
   "pygments_lexer": "ipython3",
   "version": "3.9.6"
  }
 },
 "nbformat": 4,
 "nbformat_minor": 5
}
