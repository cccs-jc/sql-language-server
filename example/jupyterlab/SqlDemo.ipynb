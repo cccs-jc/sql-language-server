{
 "cells": [
  {
   "cell_type": "code",
   "execution_count": null,
   "id": "e223a864-af3a-4b6f-bc24-acc2d464b4e5",
   "metadata": {},
   "outputs": [],
   "source": [
    "%%sql\n",
    "\n",
    "SELECT\n",
    "*\n",
    "FROM employees\n",
    "WHERE x = 1\n"
   ]
  },
  {
   "cell_type": "code",
   "execution_count": 1,
   "id": "4025bcae-900d-4e84-bf6f-c234f0f77a78",
   "metadata": {},
   "outputs": [
    {
     "name": "stdout",
     "output_type": "stream",
     "text": [
      "\n",
      "--start-sql-syntax\n",
      "SELECT e.commision_pct\n",
      "FROM employees e\n",
      "WHERE\n",
      "e.department_id == 1 and e.first_name\n",
      "\n",
      "--end-sql-syntax\n",
      "\n",
      "\n",
      "\n"
     ]
    }
   ],
   "source": [
    "sql = '''\n",
    "--start-sql-syntax\n",
    "SELECT e.commision_pct\n",
    "FROM employees e\n",
    "WHERE\n",
    "e.department_id == 1 and e.first_name\n",
    "\n",
    "--end-sql-syntax\n",
    "\n",
    "\n",
    "'''\n",
    "\n",
    "print(sql)"
   ]
  },
  {
   "cell_type": "code",
   "execution_count": null,
   "id": "5e0bf1cc-f781-4e9f-bba2-181a35c30262",
   "metadata": {},
   "outputs": [],
   "source": []
  }
 ],
 "metadata": {
  "kernelspec": {
   "display_name": "Python 3 (ipykernel)",
   "language": "python",
   "name": "python3"
  },
  "language_info": {
   "codemirror_mode": {
    "name": "ipython",
    "version": 3
   },
   "file_extension": ".py",
   "mimetype": "text/x-python",
   "name": "python",
   "nbconvert_exporter": "python",
   "pygments_lexer": "ipython3",
   "version": "3.9.6"
  }
 },
 "nbformat": 4,
 "nbformat_minor": 5
}
