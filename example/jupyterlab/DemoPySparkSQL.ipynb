{
 "cells": [
  {
   "cell_type": "code",
   "execution_count": null,
   "id": "e768621c-31e9-4ed3-8aab-434ad6d2cc9c",
   "metadata": {},
   "outputs": [],
   "source": [
    "import findspark\n",
    "findspark.init()\n",
    "import pyspark\n",
    "from pyspark.sql import SparkSession\n",
    "spark = SparkSession.builder.getOrCreate()"
   ]
  },
  {
   "cell_type": "markdown",
   "id": "559a0939-d5c3-4ac9-9418-354fd3842c51",
   "metadata": {},
   "source": [
    "### Load sparksql magic to execute SQL with spark"
   ]
  },
  {
   "cell_type": "code",
   "execution_count": null,
   "id": "30640463-d5df-4588-aaf0-348434a3ccb0",
   "metadata": {},
   "outputs": [],
   "source": [
    "%load_ext sparksql_magic"
   ]
  },
  {
   "cell_type": "code",
   "execution_count": 8,
   "id": "4efad6cf-1dcf-4604-829f-0e452ee332bb",
   "metadata": {},
   "outputs": [
    {
     "name": "stdout",
     "output_type": "stream",
     "text": [
      "Created `%%sql` as an alias for `%%sparksql`.\n"
     ]
    }
   ],
   "source": [
    "%alias_magic --cell sql sparksql"
   ]
  },
  {
   "cell_type": "markdown",
   "id": "240241b2-f0f9-4254-a2eb-944c24d0833d",
   "metadata": {},
   "source": [
    "### Compose and execute query using pyspark SQL"
   ]
  },
  {
   "cell_type": "code",
   "execution_count": null,
   "id": "e223a864-af3a-4b6f-bc24-acc2d464b4e5",
   "metadata": {
    "tags": []
   },
   "outputs": [],
   "source": [
    "%%sql\n",
    "\n",
    "SELECT\n",
    "    s.books['The_Odyssey'].chapters[3].paragraph as a,\n",
    "    s.nestedwithspaces.`sub field`.`sub field2`\n",
    "FROM\n",
    "    student AS s\n",
    "WHERE\n",
    "    array_contains(map_keys(s.books), 'The_Odyssey') = TRUE"
   ]
  },
  {
   "cell_type": "code",
   "execution_count": null,
   "id": "5e0bf1cc-f781-4e9f-bba2-181a35c30262",
   "metadata": {},
   "outputs": [],
   "source": []
  }
 ],
 "metadata": {
  "kernelspec": {
   "display_name": "Python 3 (ipykernel)",
   "language": "python",
   "name": "python3"
  },
  "language_info": {
   "codemirror_mode": {
    "name": "ipython",
    "version": 3
   },
   "file_extension": ".py",
   "mimetype": "text/x-python",
   "name": "python",
   "nbconvert_exporter": "python",
   "pygments_lexer": "ipython3",
   "version": "3.9.6"
  }
 },
 "nbformat": 4,
 "nbformat_minor": 5
}
