{
 "cells": [
  {
   "cell_type": "code",
   "execution_count": null,
   "id": "e768621c-31e9-4ed3-8aab-434ad6d2cc9c",
   "metadata": {},
   "outputs": [],
   "source": [
    "import findspark\n",
    "findspark.init()\n",
    "\n",
    "import pyspark\n",
    "\n",
    "from pyspark.sql import SparkSession\n",
    "from pyspark.sql import functions as F\n",
    "\n",
    "spark = SparkSession.builder.getOrCreate()"
   ]
  },
  {
   "cell_type": "markdown",
   "id": "559a0939-d5c3-4ac9-9418-354fd3842c51",
   "metadata": {},
   "source": [
    "### Load sparksql magic to execute SQL with spark"
   ]
  },
  {
   "cell_type": "code",
   "execution_count": null,
   "id": "30640463-d5df-4588-aaf0-348434a3ccb0",
   "metadata": {},
   "outputs": [],
   "source": [
    "%load_ext sparksql_magic\n",
    "%alias_magic --cell sql sparksql"
   ]
  },
  {
   "cell_type": "code",
   "execution_count": null,
   "id": "e223a864-af3a-4b6f-bc24-acc2d464b4e5",
   "metadata": {
    "tags": []
   },
   "outputs": [],
   "source": [
    "%%sql\n",
    "SELECT\n",
    "s.sp`spa ces`.`sp aces`\n",
    "    s.books.ch,\n",
    "    s.books.chapters.paragraph,\n",
    "    s.map_col.key.key.end,\n",
    "    s.aged, \n",
    "    s.books\n",
    "FROM\n",
    "student s"
   ]
  },
  {
   "cell_type": "code",
   "execution_count": null,
   "id": "4f2ecfab-472f-4546-b6a0-de1f75cd93cc",
   "metadata": {},
   "outputs": [],
   "source": [
    "%%sql\n",
    "\n",
    "SELECT\n",
    "s.books['title'].chapters[0].paragraph,\n",
    "s.books['title'].chapters[0].paragraph\n",
    "FROM student s"
   ]
  },
  {
   "cell_type": "code",
   "execution_count": null,
   "id": "88e08069-97a9-4c94-907a-51d82d61990a",
   "metadata": {},
   "outputs": [],
   "source": [
    "%%sql\n",
    "SELECT \n",
    "    transform(array(1, 2, 3), x -> x + 1),\n",
    "FROM\n",
    "    stude"
   ]
  },
  {
   "cell_type": "code",
   "execution_count": null,
   "id": "658dd88d-bf63-4ba9-94be-b6753635a29f",
   "metadata": {},
   "outputs": [],
   "source": [
    "%%sql\n",
    "SELECT\n",
    "    transform(array(1, 2, 3), (x, i) -> x + i)\n",
    "FROM\n",
    "    student"
   ]
  },
  {
   "cell_type": "code",
   "execution_count": null,
   "id": "e36dd2d5-6acf-41bf-9f49-4bee1cb24662",
   "metadata": {},
   "outputs": [],
   "source": [
    "%%sql\n",
    "SELECT * FROM person\n",
    "    PIVOT (\n",
    "        SUM(age) AS a, AVG(class) AS c\n",
    "        FOR (name, age) IN (('John', 30) AS c1, ('Mike', 40) AS c2)\n",
    "    );"
   ]
  },
  {
   "cell_type": "code",
   "execution_count": null,
   "id": "9064b94e-5abc-4e09-934c-eeedef9e9f29",
   "metadata": {},
   "outputs": [],
   "source": [
    "%%sql\n",
    "SELECT DATE('2020-01-01')"
   ]
  },
  {
   "cell_type": "code",
   "execution_count": null,
   "id": "eacc9902-4e0b-4e41-8bb9-f3b891dd3b8f",
   "metadata": {},
   "outputs": [],
   "source": [
    "%%sql\n",
    "SELECT\n",
    "CAST('12' AS INT),\n",
    "X'123456' AS col,\n",
    "NULL AS col,\n",
    "9223372036854775807L AS col"
   ]
  },
  {
   "cell_type": "code",
   "execution_count": null,
   "id": "0901f2ef-77e3-4463-acea-7f05fd86458d",
   "metadata": {},
   "outputs": [],
   "source": [
    "%%sql\n",
    "\n",
    "-- CTE with multiple column aliases\n",
    "WITH t(x, y) AS (SELECT 1, 2)\n",
    "SELECT * FROM t WHERE x = 1 AND y = 2"
   ]
  },
  {
   "cell_type": "code",
   "execution_count": null,
   "id": "4025bcae-900d-4e84-bf6f-c234f0f77a78",
   "metadata": {},
   "outputs": [],
   "source": [
    "sql = '''\n",
    "--start-sql-syntax\n",
    "SELECT\n",
    "e.commision_pct,\n",
    "e.`spa ces`.`sp aces`\n",
    "FROM\n",
    "student e\n",
    "WHERE\n",
    "e.department_id = 1\n",
    "and e.first_name\n",
    "\n",
    "--end-sql-syntax\n",
    "\n",
    "\n",
    "'''\n",
    "\n",
    "print(sql)"
   ]
  },
  {
   "cell_type": "code",
   "execution_count": null,
   "id": "5e0bf1cc-f781-4e9f-bba2-181a35c30262",
   "metadata": {},
   "outputs": [],
   "source": []
  }
 ],
 "metadata": {
  "kernelspec": {
   "display_name": "Python 3 (ipykernel)",
   "language": "python",
   "name": "python3"
  },
  "language_info": {
   "codemirror_mode": {
    "name": "ipython",
    "version": 3
   },
   "file_extension": ".py",
   "mimetype": "text/x-python",
   "name": "python",
   "nbconvert_exporter": "python",
   "pygments_lexer": "ipython3",
   "version": "3.9.6"
  }
 },
 "nbformat": 4,
 "nbformat_minor": 5
}
